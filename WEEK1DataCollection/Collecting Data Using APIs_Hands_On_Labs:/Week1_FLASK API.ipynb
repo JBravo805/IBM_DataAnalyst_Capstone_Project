{
 "cells": [
  {
   "cell_type": "code",
   "execution_count": null,
   "id": "0be521a0-1734-4c73-88ca-59901d17997b",
   "metadata": {},
   "outputs": [
    {
     "name": "stdout",
     "output_type": "stream",
     "text": [
      " * Serving Flask app '__main__'\n",
      " * Debug mode: off\n"
     ]
    },
    {
     "name": "stderr",
     "output_type": "stream",
     "text": [
      "\u001b[31m\u001b[1mWARNING: This is a development server. Do not use it in a production deployment. Use a production WSGI server instead.\u001b[0m\n",
      " * Running on http://127.0.0.1:5000\n",
      "\u001b[33mPress CTRL+C to quit\u001b[0m\n"
     ]
    }
   ],
   "source": [
    "import flask\n",
    "\n",
    "app = flask.Flask(__name__)\n",
    "\n",
    "\n",
    "@app.route('/', methods=['GET'])\n",
    "def home():\n",
    "    return \"<h1>Distant Reading Archive</h1><p>This site is a prototype API for distant reading of science fiction novels.</p>\"\n",
    "\n",
    "app.run()"
   ]
  },
  {
   "cell_type": "code",
   "execution_count": null,
   "id": "ebbfbbd4-ca43-48ad-a602-ed499fe8aa5d",
   "metadata": {},
   "outputs": [],
   "source": [
    "#The process of mapping URLs to functions is called routing.\n",
    "@app.route('/', methods=['GET'])"
   ]
  },
  {
   "cell_type": "code",
   "execution_count": null,
   "id": "6cdf06bb-801b-4b27-b23a-1b0ed9b932cf",
   "metadata": {},
   "outputs": [],
   "source": [
    "[\n",
    "    {\n",
    "        'name': 'Alexander Graham Bell',\n",
    "        'number': '1-333-444-5555'\n",
    "    },\n",
    "    {\n",
    "        'name': 'Thomas A. Watson',\n",
    "        'number': '1-444-555-6666'\n",
    "    }\n",
    "]\n"
   ]
  },
  {
   "cell_type": "code",
   "execution_count": null,
   "id": "1c2299a0-9960-4682-b527-320f220f8947",
   "metadata": {},
   "outputs": [],
   "source": [
    "import flask\n",
    "from flask import request, jsonify\n",
    "\n",
    "app = flask.Flask(__name__)\n",
    "\n",
    "# Create some test data for our catalog in the form of a list of dictionaries.\n",
    "books = [\n",
    "    {'id': 0,\n",
    "     'title': 'A Fire Upon the Deep',\n",
    "     'author': 'Vernor Vinge',\n",
    "     'first_sentence': 'The coldsleep itself was dreamless.',\n",
    "     'year_published': '1992'},\n",
    "    {'id': 1,\n",
    "     'title': 'The Ones Who Walk Away From Omelas',\n",
    "     'author': 'Ursula K. Le Guin',\n",
    "     'first_sentence': 'With a clamor of bells that set the swallows soaring, the Festival of Summer came to the city Omelas, bright-towered by the sea.',\n",
    "     'published': '1973'},\n",
    "    {'id': 2,\n",
    "     'title': 'Dhalgren',\n",
    "     'author': 'Samuel R. Delany',\n",
    "     'first_sentence': 'to wound the autumnal city.',\n",
    "     'published': '1975'}\n",
    "]\n",
    "\n",
    "\n",
    "@app.route('/', methods=['GET'])\n",
    "def home():\n",
    "    return '''<h1>Distant Reading Archive</h1>\n",
    "<p>A prototype API for distant reading of science fiction novels.</p>'''\n",
    "\n",
    "\n",
    "@app.route('/books/all', methods=['GET'])\n",
    "def api_all():\n",
    "    return jsonify(books)\n",
    "\n",
    "\n",
    "@app.route('/books', methods=['GET'])\n",
    "def api_id():\n",
    "    # Check if an ID was provided as part of the URL.\n",
    "    # If ID is provided, assign it to a variable.\n",
    "    # If no ID is provided, display an error in the browser.\n",
    "    if 'id' in request.args:\n",
    "        id = int(request.args['id'])\n",
    "    else:\n",
    "        return \"Error: No id field provided. Please specify an id.\"\n",
    "\n",
    "    # Create an empty list for our results\n",
    "    results = []\n",
    "\n",
    "    # Loop through the data and match results that fit the requested ID.\n",
    "    # IDs are unique, but other fields might return many results\n",
    "    for book in books:\n",
    "        if book['id'] == id:\n",
    "            results.append(book)\n",
    "\n",
    "    # Use the jsonify function from Flask to convert our list of\n",
    "    # Python dictionaries to the JSON format.\n",
    "    return jsonify(results)\n",
    "\n",
    "app.run()"
   ]
  },
  {
   "cell_type": "code",
   "execution_count": null,
   "id": "1b6fa746-a8dc-4ba0-b17f-c0ef549f8348",
   "metadata": {},
   "outputs": [],
   "source": []
  }
 ],
 "metadata": {
  "kernelspec": {
   "display_name": "Python",
   "language": "python",
   "name": "conda-env-python-py"
  },
  "language_info": {
   "codemirror_mode": {
    "name": "ipython",
    "version": 3
   },
   "file_extension": ".py",
   "mimetype": "text/x-python",
   "name": "python",
   "nbconvert_exporter": "python",
   "pygments_lexer": "ipython3",
   "version": "3.7.12"
  }
 },
 "nbformat": 4,
 "nbformat_minor": 5
}
